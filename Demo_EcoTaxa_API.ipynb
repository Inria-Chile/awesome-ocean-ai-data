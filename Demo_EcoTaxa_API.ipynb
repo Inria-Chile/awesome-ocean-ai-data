{
  "nbformat": 4,
  "nbformat_minor": 0,
  "metadata": {
    "colab": {
      "name": "Demo EcoTaxa API",
      "provenance": [],
      "collapsed_sections": []
    },
    "kernelspec": {
      "name": "python3",
      "display_name": "Python 3"
    },
    "language_info": {
      "name": "python"
    }
  },
  "cells": [
    {
      "cell_type": "markdown",
      "source": [
        "# AI: Modeling Oceans and Climate Change 2022\n",
        "\n",
        "An [IJCAI-ECAI 2022](https://ijcai-22.org/) Workshop [organized by Inria Chile Research Center](https://oceania.inria.cl/#aimocc-2022)\n",
        "\n",
        "It is our distinct pleasure to invite you to the Workshop AI: Modeling Oceans and Climate Change (AIMOCC 2022) to be held in conjunction with the 31st International Joint Conference on Artificial Intelligence and the 25th European Conference on Artificial Intelligence (IJCAI-ECAI 2022) on July 23-29, 2022, in Messe Wien, Vienna, Austria."
      ],
      "metadata": {
        "id": "DgZeki_mpv1q"
      }
    },
    {
      "cell_type": "markdown",
      "source": [
        "The goal of this workshop is to bring together researchers that are interested and/or applying AI and ML techniques to problems related to marine biology, modeling, and climate change mitigation. We also expect to attract natural science researchers interested in learning about and applying modern AI and ML methods. Consequently, the workshop will be a first stone on building a multi-disciplinary community behind this research topic, with collaborating researchers that share problems, insights, code, data, benchmarks, training pipelines, etc. Together, we aim to ultimately address an urgent matter regarding the future of humankind, nature, and our planet."
      ],
      "metadata": {
        "id": "kCjO_kKsRWI0"
      }
    },
    {
      "cell_type": "markdown",
      "source": [
        "This workshop has a related IJCAI-ECAI 2022 Challenge: [AI methods for determining ocean ecosystems from space: Combining genomic information, microscopic and satellite imagery.](https://oceania.inria.cl/#ai-ocean-challenge-2022)"
      ],
      "metadata": {
        "id": "lN6JlYAvRYyg"
      }
    },
    {
      "cell_type": "markdown",
      "source": [
        "## The goal of this notebook\n",
        "- This short tutorial aims to show how to access to Plankton images datasets from [Ecotaxa](https://ecotaxa.obs-vlfr.fr/)."
      ],
      "metadata": {
        "id": "mjA8BFGPRzAc"
      }
    },
    {
      "cell_type": "markdown",
      "source": [
        "Credit: part of this information was provided by [Fabien Lombard](https://lov.imev-mer.fr/web/member/fabien-lombard/).\n",
        "\n",
        "Ecotaxa (Picheral et al., 2017) contains over 188 million “objects”/images captured by different microscopes. Part of the dataset has been manually annotated. They also have an ML-based image classifier.\n",
        "\n",
        "Ecotaxa data is available via an [API](https://ecotaxa.obs-vlfr.fr/api/docs) allowing to programatically query and download parts of the datasets that are both validated and under CC-BY license (which is the case for the Tara Ocean)."
      ],
      "metadata": {
        "id": "5TF-sqd-TYaq"
      }
    },
    {
      "cell_type": "markdown",
      "source": [
        "## This demo is based on [Jean-Olivier Irisson](https://www.obs-vlfr.fr/~irisson/)'s work. For detailed documentation, please to go to the original [repository](https://github.com/jiho/prepare_ecotaxa_datasets)."
      ],
      "metadata": {
        "id": "lnZgWgEQOS--"
      }
    },
    {
      "cell_type": "markdown",
      "source": [
        "### In order to access EcoTaxa dataset using colab, it is necessary to install a few dependencies."
      ],
      "metadata": {
        "id": "tKygv98AT3Fq"
      }
    },
    {
      "cell_type": "markdown",
      "source": [
        "Installing dependencies:"
      ],
      "metadata": {
        "id": "YqDOki_lNPoa"
      }
    },
    {
      "cell_type": "code",
      "source": [
        "!pip install urllib3>=1.25.3\n",
        "!pip install requests==2.23.0"
      ],
      "metadata": {
        "id": "Yglya9sifHDB"
      },
      "execution_count": null,
      "outputs": []
    },
    {
      "cell_type": "code",
      "source": [
        "!pip install folium==0.2.1\n",
        "!pip install datascience==0.10.6"
      ],
      "metadata": {
        "id": "7SjVZwK6gb9S"
      },
      "execution_count": null,
      "outputs": []
    },
    {
      "cell_type": "markdown",
      "source": [
        "Installing EcoTaxa API:"
      ],
      "metadata": {
        "id": "xiioiI4_NWQR"
      }
    },
    {
      "cell_type": "code",
      "source": [
        "pip install git+https://github.com/ecotaxa/ecotaxa_py_client.git"
      ],
      "metadata": {
        "id": "piUxCu5bZ-nY"
      },
      "execution_count": null,
      "outputs": []
    },
    {
      "cell_type": "code",
      "source": [
        "import os\n",
        "import yaml\n",
        "\n",
        "from tqdm import tqdm\n",
        "import pandas as pd\n",
        "import pyarrow as pa\n",
        "from pyarrow import parquet as pq\n",
        "\n",
        "import ecotaxa_py_client\n",
        "\n",
        "from ecotaxa_py_client.api import authentification_api\n",
        "from ecotaxa_py_client.model.login_req import LoginReq\n",
        "\n",
        "from ecotaxa_py_client.api import objects_api\n",
        "\n",
        "from ecotaxa_py_client.api import projects_api\n",
        "from ecotaxa_py_client.model.project_filters import ProjectFilters\n",
        "\n",
        "from ecotaxa_py_client.api import samples_api\n",
        "\n",
        "from ecotaxa_py_client.api import taxonomy_tree_api\n",
        "from ecotaxa_py_client.model.taxon_model import TaxonModel\n",
        "\n",
        "import shutil\n",
        "import urllib.request\n",
        "\n",
        "from pyarrow.parquet import read_table"
      ],
      "metadata": {
        "id": "iwoRViNeNl_o"
      },
      "execution_count": 4,
      "outputs": []
    },
    {
      "cell_type": "markdown",
      "source": [
        "### Do not run the next cell code. \n",
        "\n",
        "- This is an EXAMPLE of the yaml file you have to create (in any text editor) in order to access to EcoTaxa. Do not forget save the text file in '.yaml' format before uploading it to your colab session.\n",
        "\n",
        "- You must [register in EcoTaxa](https://ecotaxa.obs-vlfr.fr/register) to get a valid username and password.\n"
      ],
      "metadata": {
        "id": "js7D5Ob4J135"
      }
    },
    {
      "cell_type": "code",
      "source": [
        "# DO NOT RUN THIS CELL\n",
        "\n",
        "# EcoTaxa login info\n",
        "ecotaxa_user : 'your_mail@mail.com'\n",
        "ecotaxa_pass : 'your_password'\n",
        "\n",
        "# Base directory to store the data (including the images)\n",
        "base_dir : '/content/'\n",
        "\n",
        "# Dataset name (usually based on the instrument)\n",
        "# will be created as a sub directory of base_dir\n",
        "dataset : 'Test'\n",
        "\n",
        "# Numeric id of project to download\n",
        "# you should have appropriate access rights to it:\n",
        "# - either the project should be visible to all\n",
        "# - or you should be explicitly registered to it, as viewer at least\n",
        "proj_id : 185\n",
        "\n",
        "grouping:\n",
        "  # Path or URL of a taxonomic grouping file\n",
        "  # should have level0, level1, level2, etc. columns\n",
        "  # level0 is current EcoTaxa classif and level1, etc. are increasingly coarse regrouping\n",
        "  url : 'https://docs.google.com/spreadsheets/d/1_w3HAC1ofSDc6ipyMUAhlHv6J7OuCgNlZbnmro4Cw6A/edit#gid=1129062147'\n",
        "  # Grouping level to use (level1 or level2 or...)\n",
        "  level : 'level1'\n",
        "\n",
        "# Split into train, val, test split\n",
        "split_props:\n",
        "  val : 0.15\n",
        "  test : 0.15\n",
        "# NB: train will be deduced from those\n",
        "\n",
        "images:\n",
        "  # Define if images are grayscale (or colour if False)\n",
        "  grayscale : True\n",
        "  # Number of pixels to crop at the bottom\n",
        "  crop : 31\n",
        "  # Whether to remove corners (remove all very dark parts)\n",
        "  decorner: False\n",
        "  # Thresholding parameters\n",
        "  threshold: 4     # grey level (after inversion, in [0;255])\n",
        "  dilate_erode: 0  # amount of pixels for dilation/erosion\n",
        "  # Save only the thresholded particle;\n",
        "  # otherwise saves the (possibly cropped) image\n",
        "  save_particle: True\n",
        "  # List of useless native features to remove\n",
        "  useless_features : ['tag', 'x', 'y', 'bx', 'by', 'xstart', 'ystart']"
      ],
      "metadata": {
        "id": "16sZUccNI45g"
      },
      "execution_count": null,
      "outputs": []
    },
    {
      "cell_type": "markdown",
      "source": [
        "# Uploading and reading the ***configuration.yaml*** file:"
      ],
      "metadata": {
        "id": "0S3dBCpQh6Yi"
      }
    },
    {
      "cell_type": "code",
      "source": [
        "# upload configuration.yaml file:\n",
        "from google.colab import files\n",
        "uploaded = files.upload()"
      ],
      "metadata": {
        "id": "jc8BUZMRevSS"
      },
      "execution_count": null,
      "outputs": []
    },
    {
      "cell_type": "code",
      "source": [
        "# read configuration.yaml file:\n",
        "with open(r'/content/Config.yaml') as config_file:\n",
        "    cfg = yaml.safe_load(config_file)\n",
        "print('### Download data for {}'.format(cfg['dataset']))"
      ],
      "metadata": {
        "colab": {
          "base_uri": "https://localhost:8080/"
        },
        "id": "qMTc28gUn1tp",
        "outputId": "c172d410-f13d-4bf2-9a8b-3e753d6c48f2"
      },
      "execution_count": 5,
      "outputs": [
        {
          "output_type": "stream",
          "name": "stdout",
          "text": [
            "### Download data for Test\n"
          ]
        }
      ]
    },
    {
      "cell_type": "code",
      "source": [
        "# prepare storage\n",
        "data_dir = os.path.join(os.path.expanduser(cfg['base_dir']), cfg['dataset'])\n",
        "os.makedirs(data_dir, exist_ok=True)"
      ],
      "metadata": {
        "id": "oMXtztAtjXxZ"
      },
      "execution_count": 6,
      "outputs": []
    },
    {
      "cell_type": "code",
      "source": [
        "# authenticate in EcoTaxa\n",
        "with ecotaxa_py_client.ApiClient() as client:\n",
        "    api = authentification_api.AuthentificationApi(client)\n",
        "    token = api.login(LoginReq(\n",
        "      username='your_mail@mail.com',\n",
        "      password='you_password'\n",
        "    ))"
      ],
      "metadata": {
        "id": "2h3vb48Djk1k"
      },
      "execution_count": 7,
      "outputs": []
    },
    {
      "cell_type": "code",
      "source": [
        "config = ecotaxa_py_client.Configuration(\n",
        "     access_token=token,discard_unknown_keys=True)"
      ],
      "metadata": {
        "id": "g5M9UeRojXzf"
      },
      "execution_count": 8,
      "outputs": []
    },
    {
      "cell_type": "markdown",
      "source": [
        "It is highly recommended to check out [this documentation](https://github.com/ecotaxa/ecotaxa_py_client/blob/main/docs/ObjectsApi.md#get_object_set) to access EcoTaxa porjects applying customized filters."
      ],
      "metadata": {
        "id": "PEQvgwpDMNms"
      }
    },
    {
      "cell_type": "code",
      "source": [
        "# DO NOT RUN THIS CELL CODE.\n",
        "\n",
        "# An example of several filters to access to projects that match with your interest.\n",
        "# Options include to access images restincting by taxonomy or samples id, \n",
        "# geographical zones, ocean depth, dates, instrument used to collect iamges, and many more...\n",
        "\n",
        "'''\n",
        "    project_filters = ProjectFilters(\n",
        "        taxo=\"12,7654,5409\",\n",
        "        taxochild=\"Y\",\n",
        "        statusfilter=\"NV\",\n",
        "        map_n=\"44.34\",\n",
        "        map_w=\"3.88\",\n",
        "        map_e=\"7.94\",\n",
        "        map_s=\"42.42\",\n",
        "        depthmin=\"10\",\n",
        "        depthmax=\"110\",\n",
        "        samples=\"10987,3456,987,38\",\n",
        "        instrum=\"uvp5\",\n",
        "        daytime=\"N,A\",\n",
        "        month=\"11,12\",\n",
        "        fromdate=\"2020-10-09\",\n",
        "        todate=\"2021-10-09\",\n",
        "        fromtime=\"1:17:00\",\n",
        "        totime=\"23:32:00\",\n",
        "        inverttime=\"0\",\n",
        "        validfromdate=\"2020-10-09 10:00:00\",\n",
        "        validtodate=\"2021-10-09 10:00:00\",\n",
        "        freenum=\"n01\",\n",
        "        freenumst=\"0\",\n",
        "        freenumend=\"999999\",\n",
        "        freetxt=\"p01\",\n",
        "        freetxtval=\"zooprocess\",\n",
        "        filt_annot=\"34,67,67\",\n",
        "        filt_last_annot=\"34,67\",\n",
        "    )\n",
        "'''"
      ],
      "metadata": {
        "id": "gYuvjuPvp6ZD"
      },
      "execution_count": null,
      "outputs": []
    },
    {
      "cell_type": "code",
      "source": [
        "# get validated objects and their metadata from project\n",
        "with ecotaxa_py_client.ApiClient(config) as client:\n",
        "    # list free fields for project\n",
        "    projects_instance = projects_api.ProjectsApi(client)\n",
        "    proj = projects_instance.project_query(cfg['proj_id'])\n",
        "    obj_fields = ['fre.'+k for k in proj['obj_free_cols'].keys()]\n",
        "    # TODO support several projects\n",
        "    \n",
        "    # get objects\n",
        "    objects_instance = objects_api.ObjectsApi(client)\n",
        "    # only validated\n",
        "    filters = ProjectFilters(statusfilter=\"V\")\n",
        "    # get taxonomic name and image file name and all free fields\n",
        "    fields = 'txo.id,txo.display_name,img.file_name,obj.latitude,obj.longitude,'+\\\n",
        "      ','.join(obj_fields)\n",
        "    # TODO also gather who sorted to be able to write the list of authors\n",
        "    \n",
        "    # fetch one object to get the total number of objects to fetch\n",
        "    objs = objects_instance.get_object_set(\n",
        "        cfg['proj_id'], \n",
        "        filters,\n",
        "        fields=fields, \n",
        "        window_start=0, \n",
        "        window_size=1)\n",
        "\n",
        "    # fetch per sample\n",
        "    samples_instance = samples_api.SamplesApi(client)\n",
        "    samples = samples_instance.samples_search(\n",
        "      project_ids=str(cfg['proj_id']),\n",
        "      id_pattern=\"%\"\n",
        "    )\n",
        "    \n",
        "    # prepare storage\n",
        "    objs_dfs = []\n",
        "\n",
        "    with tqdm(total=objs['total_ids']) as pbar:\n",
        "        for sam in samples:\n",
        "            # update filters to add sampleid\n",
        "            filters.samples = str(sam['sampleid'])\n",
        "            \n",
        "            # fetch a batch of objects\n",
        "            objs = objects_instance.get_object_set(cfg['proj_id'], filters,\n",
        "              fields=fields)\n",
        "            n_fetched_objs = len(objs.details)\n",
        "            \n",
        "            # format retrieved data as a DataFrame\n",
        "            objs_df = pd.DataFrame(objs['details'], columns=fields.split(','))\n",
        "            # add object id as an identifier\n",
        "            objs_df['objid'] = objs['object_ids']\n",
        "            \n",
        "            # store with the previous batches\n",
        "            objs_dfs.append(objs_df)\n",
        "            # and update progress bar\n",
        "            ok = pbar.update(n_fetched_objs)"
      ],
      "metadata": {
        "colab": {
          "base_uri": "https://localhost:8080/"
        },
        "id": "q59ETxdFjX10",
        "outputId": "f413f782-f0b9-4b32-ec33-a73356073272"
      },
      "execution_count": 9,
      "outputs": [
        {
          "output_type": "stream",
          "name": "stderr",
          "text": [
            "100%|██████████| 412/412 [00:05<00:00, 76.86it/s] \n"
          ]
        }
      ]
    },
    {
      "cell_type": "code",
      "source": [
        "# combine all batches in a single DataFrame\n",
        "df = pd.concat(objs_dfs, ignore_index=True)\n",
        "# fix id column types\n",
        "df['txo.id'] = df['txo.id'].astype('int32')\n",
        "df['objid'] = df['objid'].astype('int32')\n",
        "\n",
        "df.head(5)"
      ],
      "metadata": {
        "colab": {
          "base_uri": "https://localhost:8080/",
          "height": 299
        },
        "id": "tXrIHxuojX4H",
        "outputId": "732a35d2-1ffe-4d51-d7bf-676fcdaa367a"
      },
      "execution_count": 10,
      "outputs": [
        {
          "output_type": "execute_result",
          "data": {
            "text/plain": [
              "   txo.id txo.display_name   img.file_name  obj.latitude  obj.longitude  \\\n",
              "0   84963         detritus  26332/9830.jpg     24.858455     123.839817   \n",
              "1   84963         detritus  26332/9765.jpg     24.858455     123.839817   \n",
              "2   84963         detritus  26332/9828.jpg     24.858455     123.839817   \n",
              "3   84963         detritus  26332/9839.jpg     24.858455     123.839817   \n",
              "4   84963         detritus  26332/9846.jpg     24.858455     123.839817   \n",
              "\n",
              "  fre.lat_end fre.lon_end  fre.area    fre.mean  fre.stddev  ...  \\\n",
              "0         0.0         0.0     702.0  135.696581   71.379642  ...   \n",
              "1         0.0         0.0    3114.0  216.850353   25.803230  ...   \n",
              "2         0.0         0.0    1530.0  201.959477   37.594472  ...   \n",
              "3         0.0         0.0    1401.0  178.619557   53.665992  ...   \n",
              "4         0.0         0.0     848.0  136.845519   76.017698  ...   \n",
              "\n",
              "   fre.centroids     fre.cv     fre.sr  fre.perimareaexc  fre.feretareaexc  \\\n",
              "0       0.000000  52.322615  36.410256          4.378138          1.396475   \n",
              "1       0.000000  11.989835  18.055556          7.315838          1.959278   \n",
              "2       2.236068  18.815656  25.850340          9.027572          2.097056   \n",
              "3       1.000000  30.231852  32.335329          6.251681          1.923594   \n",
              "4       1.000000  55.537076  38.190955          4.569934          1.408777   \n",
              "\n",
              "   fre.perimferet  fre.perimmajor  fre.circex  fre.cdexc      objid  \n",
              "0        3.135135        3.314286    0.655588   0.000000  236050513  \n",
              "1        3.733945        4.573034    0.234791   0.000000  236050448  \n",
              "2        4.304878        5.883333    0.154194   0.057185  236050511  \n",
              "3        3.250000        3.656250    0.321526   0.026717  236050522  \n",
              "4        3.243902        3.500000    0.601714   0.034360  236050529  \n",
              "\n",
              "[5 rows x 75 columns]"
            ],
            "text/html": [
              "\n",
              "  <div id=\"df-bda3a0ca-3b7d-426d-b42e-5524804d75e2\">\n",
              "    <div class=\"colab-df-container\">\n",
              "      <div>\n",
              "<style scoped>\n",
              "    .dataframe tbody tr th:only-of-type {\n",
              "        vertical-align: middle;\n",
              "    }\n",
              "\n",
              "    .dataframe tbody tr th {\n",
              "        vertical-align: top;\n",
              "    }\n",
              "\n",
              "    .dataframe thead th {\n",
              "        text-align: right;\n",
              "    }\n",
              "</style>\n",
              "<table border=\"1\" class=\"dataframe\">\n",
              "  <thead>\n",
              "    <tr style=\"text-align: right;\">\n",
              "      <th></th>\n",
              "      <th>txo.id</th>\n",
              "      <th>txo.display_name</th>\n",
              "      <th>img.file_name</th>\n",
              "      <th>obj.latitude</th>\n",
              "      <th>obj.longitude</th>\n",
              "      <th>fre.lat_end</th>\n",
              "      <th>fre.lon_end</th>\n",
              "      <th>fre.area</th>\n",
              "      <th>fre.mean</th>\n",
              "      <th>fre.stddev</th>\n",
              "      <th>...</th>\n",
              "      <th>fre.centroids</th>\n",
              "      <th>fre.cv</th>\n",
              "      <th>fre.sr</th>\n",
              "      <th>fre.perimareaexc</th>\n",
              "      <th>fre.feretareaexc</th>\n",
              "      <th>fre.perimferet</th>\n",
              "      <th>fre.perimmajor</th>\n",
              "      <th>fre.circex</th>\n",
              "      <th>fre.cdexc</th>\n",
              "      <th>objid</th>\n",
              "    </tr>\n",
              "  </thead>\n",
              "  <tbody>\n",
              "    <tr>\n",
              "      <th>0</th>\n",
              "      <td>84963</td>\n",
              "      <td>detritus</td>\n",
              "      <td>26332/9830.jpg</td>\n",
              "      <td>24.858455</td>\n",
              "      <td>123.839817</td>\n",
              "      <td>0.0</td>\n",
              "      <td>0.0</td>\n",
              "      <td>702.0</td>\n",
              "      <td>135.696581</td>\n",
              "      <td>71.379642</td>\n",
              "      <td>...</td>\n",
              "      <td>0.000000</td>\n",
              "      <td>52.322615</td>\n",
              "      <td>36.410256</td>\n",
              "      <td>4.378138</td>\n",
              "      <td>1.396475</td>\n",
              "      <td>3.135135</td>\n",
              "      <td>3.314286</td>\n",
              "      <td>0.655588</td>\n",
              "      <td>0.000000</td>\n",
              "      <td>236050513</td>\n",
              "    </tr>\n",
              "    <tr>\n",
              "      <th>1</th>\n",
              "      <td>84963</td>\n",
              "      <td>detritus</td>\n",
              "      <td>26332/9765.jpg</td>\n",
              "      <td>24.858455</td>\n",
              "      <td>123.839817</td>\n",
              "      <td>0.0</td>\n",
              "      <td>0.0</td>\n",
              "      <td>3114.0</td>\n",
              "      <td>216.850353</td>\n",
              "      <td>25.803230</td>\n",
              "      <td>...</td>\n",
              "      <td>0.000000</td>\n",
              "      <td>11.989835</td>\n",
              "      <td>18.055556</td>\n",
              "      <td>7.315838</td>\n",
              "      <td>1.959278</td>\n",
              "      <td>3.733945</td>\n",
              "      <td>4.573034</td>\n",
              "      <td>0.234791</td>\n",
              "      <td>0.000000</td>\n",
              "      <td>236050448</td>\n",
              "    </tr>\n",
              "    <tr>\n",
              "      <th>2</th>\n",
              "      <td>84963</td>\n",
              "      <td>detritus</td>\n",
              "      <td>26332/9828.jpg</td>\n",
              "      <td>24.858455</td>\n",
              "      <td>123.839817</td>\n",
              "      <td>0.0</td>\n",
              "      <td>0.0</td>\n",
              "      <td>1530.0</td>\n",
              "      <td>201.959477</td>\n",
              "      <td>37.594472</td>\n",
              "      <td>...</td>\n",
              "      <td>2.236068</td>\n",
              "      <td>18.815656</td>\n",
              "      <td>25.850340</td>\n",
              "      <td>9.027572</td>\n",
              "      <td>2.097056</td>\n",
              "      <td>4.304878</td>\n",
              "      <td>5.883333</td>\n",
              "      <td>0.154194</td>\n",
              "      <td>0.057185</td>\n",
              "      <td>236050511</td>\n",
              "    </tr>\n",
              "    <tr>\n",
              "      <th>3</th>\n",
              "      <td>84963</td>\n",
              "      <td>detritus</td>\n",
              "      <td>26332/9839.jpg</td>\n",
              "      <td>24.858455</td>\n",
              "      <td>123.839817</td>\n",
              "      <td>0.0</td>\n",
              "      <td>0.0</td>\n",
              "      <td>1401.0</td>\n",
              "      <td>178.619557</td>\n",
              "      <td>53.665992</td>\n",
              "      <td>...</td>\n",
              "      <td>1.000000</td>\n",
              "      <td>30.231852</td>\n",
              "      <td>32.335329</td>\n",
              "      <td>6.251681</td>\n",
              "      <td>1.923594</td>\n",
              "      <td>3.250000</td>\n",
              "      <td>3.656250</td>\n",
              "      <td>0.321526</td>\n",
              "      <td>0.026717</td>\n",
              "      <td>236050522</td>\n",
              "    </tr>\n",
              "    <tr>\n",
              "      <th>4</th>\n",
              "      <td>84963</td>\n",
              "      <td>detritus</td>\n",
              "      <td>26332/9846.jpg</td>\n",
              "      <td>24.858455</td>\n",
              "      <td>123.839817</td>\n",
              "      <td>0.0</td>\n",
              "      <td>0.0</td>\n",
              "      <td>848.0</td>\n",
              "      <td>136.845519</td>\n",
              "      <td>76.017698</td>\n",
              "      <td>...</td>\n",
              "      <td>1.000000</td>\n",
              "      <td>55.537076</td>\n",
              "      <td>38.190955</td>\n",
              "      <td>4.569934</td>\n",
              "      <td>1.408777</td>\n",
              "      <td>3.243902</td>\n",
              "      <td>3.500000</td>\n",
              "      <td>0.601714</td>\n",
              "      <td>0.034360</td>\n",
              "      <td>236050529</td>\n",
              "    </tr>\n",
              "  </tbody>\n",
              "</table>\n",
              "<p>5 rows × 75 columns</p>\n",
              "</div>\n",
              "      <button class=\"colab-df-convert\" onclick=\"convertToInteractive('df-bda3a0ca-3b7d-426d-b42e-5524804d75e2')\"\n",
              "              title=\"Convert this dataframe to an interactive table.\"\n",
              "              style=\"display:none;\">\n",
              "        \n",
              "  <svg xmlns=\"http://www.w3.org/2000/svg\" height=\"24px\"viewBox=\"0 0 24 24\"\n",
              "       width=\"24px\">\n",
              "    <path d=\"M0 0h24v24H0V0z\" fill=\"none\"/>\n",
              "    <path d=\"M18.56 5.44l.94 2.06.94-2.06 2.06-.94-2.06-.94-.94-2.06-.94 2.06-2.06.94zm-11 1L8.5 8.5l.94-2.06 2.06-.94-2.06-.94L8.5 2.5l-.94 2.06-2.06.94zm10 10l.94 2.06.94-2.06 2.06-.94-2.06-.94-.94-2.06-.94 2.06-2.06.94z\"/><path d=\"M17.41 7.96l-1.37-1.37c-.4-.4-.92-.59-1.43-.59-.52 0-1.04.2-1.43.59L10.3 9.45l-7.72 7.72c-.78.78-.78 2.05 0 2.83L4 21.41c.39.39.9.59 1.41.59.51 0 1.02-.2 1.41-.59l7.78-7.78 2.81-2.81c.8-.78.8-2.07 0-2.86zM5.41 20L4 18.59l7.72-7.72 1.47 1.35L5.41 20z\"/>\n",
              "  </svg>\n",
              "      </button>\n",
              "      \n",
              "  <style>\n",
              "    .colab-df-container {\n",
              "      display:flex;\n",
              "      flex-wrap:wrap;\n",
              "      gap: 12px;\n",
              "    }\n",
              "\n",
              "    .colab-df-convert {\n",
              "      background-color: #E8F0FE;\n",
              "      border: none;\n",
              "      border-radius: 50%;\n",
              "      cursor: pointer;\n",
              "      display: none;\n",
              "      fill: #1967D2;\n",
              "      height: 32px;\n",
              "      padding: 0 0 0 0;\n",
              "      width: 32px;\n",
              "    }\n",
              "\n",
              "    .colab-df-convert:hover {\n",
              "      background-color: #E2EBFA;\n",
              "      box-shadow: 0px 1px 2px rgba(60, 64, 67, 0.3), 0px 1px 3px 1px rgba(60, 64, 67, 0.15);\n",
              "      fill: #174EA6;\n",
              "    }\n",
              "\n",
              "    [theme=dark] .colab-df-convert {\n",
              "      background-color: #3B4455;\n",
              "      fill: #D2E3FC;\n",
              "    }\n",
              "\n",
              "    [theme=dark] .colab-df-convert:hover {\n",
              "      background-color: #434B5C;\n",
              "      box-shadow: 0px 1px 3px 1px rgba(0, 0, 0, 0.15);\n",
              "      filter: drop-shadow(0px 1px 2px rgba(0, 0, 0, 0.3));\n",
              "      fill: #FFFFFF;\n",
              "    }\n",
              "  </style>\n",
              "\n",
              "      <script>\n",
              "        const buttonEl =\n",
              "          document.querySelector('#df-bda3a0ca-3b7d-426d-b42e-5524804d75e2 button.colab-df-convert');\n",
              "        buttonEl.style.display =\n",
              "          google.colab.kernel.accessAllowed ? 'block' : 'none';\n",
              "\n",
              "        async function convertToInteractive(key) {\n",
              "          const element = document.querySelector('#df-bda3a0ca-3b7d-426d-b42e-5524804d75e2');\n",
              "          const dataTable =\n",
              "            await google.colab.kernel.invokeFunction('convertToInteractive',\n",
              "                                                     [key], {});\n",
              "          if (!dataTable) return;\n",
              "\n",
              "          const docLinkHtml = 'Like what you see? Visit the ' +\n",
              "            '<a target=\"_blank\" href=https://colab.research.google.com/notebooks/data_table.ipynb>data table notebook</a>'\n",
              "            + ' to learn more about interactive tables.';\n",
              "          element.innerHTML = '';\n",
              "          dataTable['output_type'] = 'display_data';\n",
              "          await google.colab.output.renderOutput(dataTable, element);\n",
              "          const docLink = document.createElement('div');\n",
              "          docLink.innerHTML = docLinkHtml;\n",
              "          element.appendChild(docLink);\n",
              "        }\n",
              "      </script>\n",
              "    </div>\n",
              "  </div>\n",
              "  "
            ]
          },
          "metadata": {},
          "execution_count": 10
        }
      ]
    },
    {
      "cell_type": "code",
      "source": [
        "# get all unique taxa ids\n",
        "taxo_ids = list(set(df['txo.id']))\n",
        "# get lineage for each\n",
        "with ecotaxa_py_client.ApiClient(config) as client:\n",
        "    taxo_instance = taxonomy_tree_api.TaxonomyTreeApi(client)\n",
        "    taxa = [taxo_instance.query_taxa(t) for t in taxo_ids]\n",
        "\n",
        "lineages = ['/' + '/'.join(t['lineage'][::-1]) for t in taxa]\n",
        "lineages"
      ],
      "metadata": {
        "colab": {
          "base_uri": "https://localhost:8080/"
        },
        "id": "4GZYBM47jX6v",
        "outputId": "d28ee6ae-0fab-4a64-b5df-e34df87a391d"
      },
      "execution_count": 11,
      "outputs": [
        {
          "output_type": "execute_result",
          "data": {
            "text/plain": [
              "['/not-living/detritus',\n",
              " '/not-living/artefact/badfocus',\n",
              " '/living/Eukaryota/Opisthokonta/Holozoa/Metazoa/Arthropoda/Crustacea/Maxillopoda/Copepoda/Calanoida/Acartiidae',\n",
              " '/living/Eukaryota/Opisthokonta/Holozoa/Metazoa/Cnidaria/Hydrozoa/Hydroidolina/Siphonophorae/Calycophorae/Diphyidae',\n",
              " '/living/Eukaryota/Opisthokonta/Holozoa/Metazoa/Cnidaria/Hydrozoa/Hydroidolina/Siphonophorae/Calycophorae/Abylidae',\n",
              " '/living/Eukaryota/Opisthokonta/Holozoa/Metazoa/Cnidaria/Hydrozoa/Hydroidolina/Siphonophorae/Calycophorae/Abylidae/Abylopsis/Abylopsis tetragona/eudoxie',\n",
              " '/living/Eukaryota/Opisthokonta/Holozoa/Metazoa/Arthropoda/Crustacea/Maxillopoda/Copepoda/Calanoida',\n",
              " '/living/Eukaryota/Opisthokonta/Holozoa/Metazoa/Mollusca/Gastropoda/Caenogastropoda/Hypsogastropoda/Etrema',\n",
              " '/living/Eukaryota/Opisthokonta/Holozoa/Metazoa/Arthropoda/Crustacea/Maxillopoda/Copepoda/Cyclopoida/Oithonidae',\n",
              " '/living/Eukaryota/Opisthokonta/Holozoa/Metazoa/Chordata/Tunicata/Thaliacea/Salpida',\n",
              " '/living/Eukaryota/Opisthokonta/Holozoa/Metazoa/Chaetognatha']"
            ]
          },
          "metadata": {},
          "execution_count": 11
        }
      ]
    },
    {
      "cell_type": "code",
      "source": [
        "# add lineages to the DataFrame\n",
        "taxo = pd.DataFrame({'lineage': lineages}, index=taxo_ids)\n",
        "df = df.join(taxo, on='txo.id')"
      ],
      "metadata": {
        "id": "1ROz5gs0jYKO"
      },
      "execution_count": 12,
      "outputs": []
    },
    {
      "cell_type": "code",
      "source": [
        "df"
      ],
      "metadata": {
        "colab": {
          "base_uri": "https://localhost:8080/",
          "height": 765
        },
        "id": "jDiC8anZiTcU",
        "outputId": "fa1af920-1d06-4e05-e958-1b5957889c79"
      },
      "execution_count": 13,
      "outputs": [
        {
          "output_type": "execute_result",
          "data": {
            "text/plain": [
              "     txo.id txo.display_name   img.file_name  obj.latitude  obj.longitude  \\\n",
              "0     84963         detritus  26332/9830.jpg     24.858455     123.839817   \n",
              "1     84963         detritus  26332/9765.jpg     24.858455     123.839817   \n",
              "2     84963         detritus  26332/9828.jpg     24.858455     123.839817   \n",
              "3     84963         detritus  26332/9839.jpg     24.858455     123.839817   \n",
              "4     84963         detritus  26332/9846.jpg     24.858455     123.839817   \n",
              "..      ...              ...             ...           ...            ...   \n",
              "407   61996       Acartiidae   2447/4127.jpg     43.685000       7.315667   \n",
              "408   84963         detritus   2447/4665.jpg     43.685000       7.315667   \n",
              "409   61996       Acartiidae   2447/5100.jpg     43.685000       7.315667   \n",
              "410   84963         detritus   2447/4698.jpg     43.685000       7.315667   \n",
              "411   84963         detritus   2447/3816.jpg     43.685000       7.315667   \n",
              "\n",
              "    fre.lat_end fre.lon_end  fre.area    fre.mean  fre.stddev  ...     fre.cv  \\\n",
              "0           0.0         0.0     702.0  135.696581   71.379642  ...  52.322615   \n",
              "1           0.0         0.0    3114.0  216.850353   25.803230  ...  11.989835   \n",
              "2           0.0         0.0    1530.0  201.959477   37.594472  ...  18.815656   \n",
              "3           0.0         0.0    1401.0  178.619557   53.665992  ...  30.231852   \n",
              "4           0.0         0.0     848.0  136.845519   76.017698  ...  55.537076   \n",
              "..          ...         ...       ...         ...         ...  ...        ...   \n",
              "407        None        None    2632.0  184.480000   40.915000  ...  22.282609   \n",
              "408        None        None     703.0  224.660000   14.147000  ...   6.222222   \n",
              "409        None        None    3113.0  181.560000   41.574000  ...  23.076923   \n",
              "410        None        None    1072.0  163.600000   52.769000  ...  32.317073   \n",
              "411        None        None     835.0  172.270000   55.688000  ...  32.558140   \n",
              "\n",
              "        fre.sr  fre.perimareaexc  fre.feretareaexc  fre.perimferet  \\\n",
              "0    36.410256          4.378138          1.396475        3.135135   \n",
              "1    18.055556          7.315838          1.959278        3.733945   \n",
              "2    25.850340          9.027572          2.097056        4.304878   \n",
              "3    32.335329          6.251681          1.923594        3.250000   \n",
              "4    38.190955          4.569934          1.408777        3.243902   \n",
              "..         ...               ...               ...             ...   \n",
              "407  29.078014          0.177752          0.049312        3.604651   \n",
              "408  22.580645          0.255014          0.074499        3.423077   \n",
              "409  31.578947          0.150804          0.034727        4.342593   \n",
              "410  27.894737          0.145658          0.044818        3.250000   \n",
              "411  29.787234          0.193046          0.057554        3.354167   \n",
              "\n",
              "     fre.perimmajor  fre.circex  fre.cdexc      objid  \\\n",
              "0          3.314286    0.655588   0.000000  236050513   \n",
              "1          4.573034    0.234791   0.000000  236050448   \n",
              "2          5.883333    0.154194   0.057185  236050511   \n",
              "3          3.656250    0.321526   0.026717  236050522   \n",
              "4          3.500000    0.601714   0.034360  236050529   \n",
              "..              ...         ...        ...        ...   \n",
              "407        5.670732   70.393202  -0.000382   24479673   \n",
              "408        4.045455   49.837083   0.005731   24480211   \n",
              "409        5.329545   82.975398   0.001286   24480646   \n",
              "410        3.250000   85.180905   0.003735   24480244   \n",
              "411        4.025000   64.296645   0.005995   24479362   \n",
              "\n",
              "                                               lineage  \n",
              "0                                 /not-living/detritus  \n",
              "1                                 /not-living/detritus  \n",
              "2                                 /not-living/detritus  \n",
              "3                                 /not-living/detritus  \n",
              "4                                 /not-living/detritus  \n",
              "..                                                 ...  \n",
              "407  /living/Eukaryota/Opisthokonta/Holozoa/Metazoa...  \n",
              "408                               /not-living/detritus  \n",
              "409  /living/Eukaryota/Opisthokonta/Holozoa/Metazoa...  \n",
              "410                               /not-living/detritus  \n",
              "411                               /not-living/detritus  \n",
              "\n",
              "[412 rows x 76 columns]"
            ],
            "text/html": [
              "\n",
              "  <div id=\"df-66aad3e5-a6d4-48c2-b442-16d092521877\">\n",
              "    <div class=\"colab-df-container\">\n",
              "      <div>\n",
              "<style scoped>\n",
              "    .dataframe tbody tr th:only-of-type {\n",
              "        vertical-align: middle;\n",
              "    }\n",
              "\n",
              "    .dataframe tbody tr th {\n",
              "        vertical-align: top;\n",
              "    }\n",
              "\n",
              "    .dataframe thead th {\n",
              "        text-align: right;\n",
              "    }\n",
              "</style>\n",
              "<table border=\"1\" class=\"dataframe\">\n",
              "  <thead>\n",
              "    <tr style=\"text-align: right;\">\n",
              "      <th></th>\n",
              "      <th>txo.id</th>\n",
              "      <th>txo.display_name</th>\n",
              "      <th>img.file_name</th>\n",
              "      <th>obj.latitude</th>\n",
              "      <th>obj.longitude</th>\n",
              "      <th>fre.lat_end</th>\n",
              "      <th>fre.lon_end</th>\n",
              "      <th>fre.area</th>\n",
              "      <th>fre.mean</th>\n",
              "      <th>fre.stddev</th>\n",
              "      <th>...</th>\n",
              "      <th>fre.cv</th>\n",
              "      <th>fre.sr</th>\n",
              "      <th>fre.perimareaexc</th>\n",
              "      <th>fre.feretareaexc</th>\n",
              "      <th>fre.perimferet</th>\n",
              "      <th>fre.perimmajor</th>\n",
              "      <th>fre.circex</th>\n",
              "      <th>fre.cdexc</th>\n",
              "      <th>objid</th>\n",
              "      <th>lineage</th>\n",
              "    </tr>\n",
              "  </thead>\n",
              "  <tbody>\n",
              "    <tr>\n",
              "      <th>0</th>\n",
              "      <td>84963</td>\n",
              "      <td>detritus</td>\n",
              "      <td>26332/9830.jpg</td>\n",
              "      <td>24.858455</td>\n",
              "      <td>123.839817</td>\n",
              "      <td>0.0</td>\n",
              "      <td>0.0</td>\n",
              "      <td>702.0</td>\n",
              "      <td>135.696581</td>\n",
              "      <td>71.379642</td>\n",
              "      <td>...</td>\n",
              "      <td>52.322615</td>\n",
              "      <td>36.410256</td>\n",
              "      <td>4.378138</td>\n",
              "      <td>1.396475</td>\n",
              "      <td>3.135135</td>\n",
              "      <td>3.314286</td>\n",
              "      <td>0.655588</td>\n",
              "      <td>0.000000</td>\n",
              "      <td>236050513</td>\n",
              "      <td>/not-living/detritus</td>\n",
              "    </tr>\n",
              "    <tr>\n",
              "      <th>1</th>\n",
              "      <td>84963</td>\n",
              "      <td>detritus</td>\n",
              "      <td>26332/9765.jpg</td>\n",
              "      <td>24.858455</td>\n",
              "      <td>123.839817</td>\n",
              "      <td>0.0</td>\n",
              "      <td>0.0</td>\n",
              "      <td>3114.0</td>\n",
              "      <td>216.850353</td>\n",
              "      <td>25.803230</td>\n",
              "      <td>...</td>\n",
              "      <td>11.989835</td>\n",
              "      <td>18.055556</td>\n",
              "      <td>7.315838</td>\n",
              "      <td>1.959278</td>\n",
              "      <td>3.733945</td>\n",
              "      <td>4.573034</td>\n",
              "      <td>0.234791</td>\n",
              "      <td>0.000000</td>\n",
              "      <td>236050448</td>\n",
              "      <td>/not-living/detritus</td>\n",
              "    </tr>\n",
              "    <tr>\n",
              "      <th>2</th>\n",
              "      <td>84963</td>\n",
              "      <td>detritus</td>\n",
              "      <td>26332/9828.jpg</td>\n",
              "      <td>24.858455</td>\n",
              "      <td>123.839817</td>\n",
              "      <td>0.0</td>\n",
              "      <td>0.0</td>\n",
              "      <td>1530.0</td>\n",
              "      <td>201.959477</td>\n",
              "      <td>37.594472</td>\n",
              "      <td>...</td>\n",
              "      <td>18.815656</td>\n",
              "      <td>25.850340</td>\n",
              "      <td>9.027572</td>\n",
              "      <td>2.097056</td>\n",
              "      <td>4.304878</td>\n",
              "      <td>5.883333</td>\n",
              "      <td>0.154194</td>\n",
              "      <td>0.057185</td>\n",
              "      <td>236050511</td>\n",
              "      <td>/not-living/detritus</td>\n",
              "    </tr>\n",
              "    <tr>\n",
              "      <th>3</th>\n",
              "      <td>84963</td>\n",
              "      <td>detritus</td>\n",
              "      <td>26332/9839.jpg</td>\n",
              "      <td>24.858455</td>\n",
              "      <td>123.839817</td>\n",
              "      <td>0.0</td>\n",
              "      <td>0.0</td>\n",
              "      <td>1401.0</td>\n",
              "      <td>178.619557</td>\n",
              "      <td>53.665992</td>\n",
              "      <td>...</td>\n",
              "      <td>30.231852</td>\n",
              "      <td>32.335329</td>\n",
              "      <td>6.251681</td>\n",
              "      <td>1.923594</td>\n",
              "      <td>3.250000</td>\n",
              "      <td>3.656250</td>\n",
              "      <td>0.321526</td>\n",
              "      <td>0.026717</td>\n",
              "      <td>236050522</td>\n",
              "      <td>/not-living/detritus</td>\n",
              "    </tr>\n",
              "    <tr>\n",
              "      <th>4</th>\n",
              "      <td>84963</td>\n",
              "      <td>detritus</td>\n",
              "      <td>26332/9846.jpg</td>\n",
              "      <td>24.858455</td>\n",
              "      <td>123.839817</td>\n",
              "      <td>0.0</td>\n",
              "      <td>0.0</td>\n",
              "      <td>848.0</td>\n",
              "      <td>136.845519</td>\n",
              "      <td>76.017698</td>\n",
              "      <td>...</td>\n",
              "      <td>55.537076</td>\n",
              "      <td>38.190955</td>\n",
              "      <td>4.569934</td>\n",
              "      <td>1.408777</td>\n",
              "      <td>3.243902</td>\n",
              "      <td>3.500000</td>\n",
              "      <td>0.601714</td>\n",
              "      <td>0.034360</td>\n",
              "      <td>236050529</td>\n",
              "      <td>/not-living/detritus</td>\n",
              "    </tr>\n",
              "    <tr>\n",
              "      <th>...</th>\n",
              "      <td>...</td>\n",
              "      <td>...</td>\n",
              "      <td>...</td>\n",
              "      <td>...</td>\n",
              "      <td>...</td>\n",
              "      <td>...</td>\n",
              "      <td>...</td>\n",
              "      <td>...</td>\n",
              "      <td>...</td>\n",
              "      <td>...</td>\n",
              "      <td>...</td>\n",
              "      <td>...</td>\n",
              "      <td>...</td>\n",
              "      <td>...</td>\n",
              "      <td>...</td>\n",
              "      <td>...</td>\n",
              "      <td>...</td>\n",
              "      <td>...</td>\n",
              "      <td>...</td>\n",
              "      <td>...</td>\n",
              "      <td>...</td>\n",
              "    </tr>\n",
              "    <tr>\n",
              "      <th>407</th>\n",
              "      <td>61996</td>\n",
              "      <td>Acartiidae</td>\n",
              "      <td>2447/4127.jpg</td>\n",
              "      <td>43.685000</td>\n",
              "      <td>7.315667</td>\n",
              "      <td>None</td>\n",
              "      <td>None</td>\n",
              "      <td>2632.0</td>\n",
              "      <td>184.480000</td>\n",
              "      <td>40.915000</td>\n",
              "      <td>...</td>\n",
              "      <td>22.282609</td>\n",
              "      <td>29.078014</td>\n",
              "      <td>0.177752</td>\n",
              "      <td>0.049312</td>\n",
              "      <td>3.604651</td>\n",
              "      <td>5.670732</td>\n",
              "      <td>70.393202</td>\n",
              "      <td>-0.000382</td>\n",
              "      <td>24479673</td>\n",
              "      <td>/living/Eukaryota/Opisthokonta/Holozoa/Metazoa...</td>\n",
              "    </tr>\n",
              "    <tr>\n",
              "      <th>408</th>\n",
              "      <td>84963</td>\n",
              "      <td>detritus</td>\n",
              "      <td>2447/4665.jpg</td>\n",
              "      <td>43.685000</td>\n",
              "      <td>7.315667</td>\n",
              "      <td>None</td>\n",
              "      <td>None</td>\n",
              "      <td>703.0</td>\n",
              "      <td>224.660000</td>\n",
              "      <td>14.147000</td>\n",
              "      <td>...</td>\n",
              "      <td>6.222222</td>\n",
              "      <td>22.580645</td>\n",
              "      <td>0.255014</td>\n",
              "      <td>0.074499</td>\n",
              "      <td>3.423077</td>\n",
              "      <td>4.045455</td>\n",
              "      <td>49.837083</td>\n",
              "      <td>0.005731</td>\n",
              "      <td>24480211</td>\n",
              "      <td>/not-living/detritus</td>\n",
              "    </tr>\n",
              "    <tr>\n",
              "      <th>409</th>\n",
              "      <td>61996</td>\n",
              "      <td>Acartiidae</td>\n",
              "      <td>2447/5100.jpg</td>\n",
              "      <td>43.685000</td>\n",
              "      <td>7.315667</td>\n",
              "      <td>None</td>\n",
              "      <td>None</td>\n",
              "      <td>3113.0</td>\n",
              "      <td>181.560000</td>\n",
              "      <td>41.574000</td>\n",
              "      <td>...</td>\n",
              "      <td>23.076923</td>\n",
              "      <td>31.578947</td>\n",
              "      <td>0.150804</td>\n",
              "      <td>0.034727</td>\n",
              "      <td>4.342593</td>\n",
              "      <td>5.329545</td>\n",
              "      <td>82.975398</td>\n",
              "      <td>0.001286</td>\n",
              "      <td>24480646</td>\n",
              "      <td>/living/Eukaryota/Opisthokonta/Holozoa/Metazoa...</td>\n",
              "    </tr>\n",
              "    <tr>\n",
              "      <th>410</th>\n",
              "      <td>84963</td>\n",
              "      <td>detritus</td>\n",
              "      <td>2447/4698.jpg</td>\n",
              "      <td>43.685000</td>\n",
              "      <td>7.315667</td>\n",
              "      <td>None</td>\n",
              "      <td>None</td>\n",
              "      <td>1072.0</td>\n",
              "      <td>163.600000</td>\n",
              "      <td>52.769000</td>\n",
              "      <td>...</td>\n",
              "      <td>32.317073</td>\n",
              "      <td>27.894737</td>\n",
              "      <td>0.145658</td>\n",
              "      <td>0.044818</td>\n",
              "      <td>3.250000</td>\n",
              "      <td>3.250000</td>\n",
              "      <td>85.180905</td>\n",
              "      <td>0.003735</td>\n",
              "      <td>24480244</td>\n",
              "      <td>/not-living/detritus</td>\n",
              "    </tr>\n",
              "    <tr>\n",
              "      <th>411</th>\n",
              "      <td>84963</td>\n",
              "      <td>detritus</td>\n",
              "      <td>2447/3816.jpg</td>\n",
              "      <td>43.685000</td>\n",
              "      <td>7.315667</td>\n",
              "      <td>None</td>\n",
              "      <td>None</td>\n",
              "      <td>835.0</td>\n",
              "      <td>172.270000</td>\n",
              "      <td>55.688000</td>\n",
              "      <td>...</td>\n",
              "      <td>32.558140</td>\n",
              "      <td>29.787234</td>\n",
              "      <td>0.193046</td>\n",
              "      <td>0.057554</td>\n",
              "      <td>3.354167</td>\n",
              "      <td>4.025000</td>\n",
              "      <td>64.296645</td>\n",
              "      <td>0.005995</td>\n",
              "      <td>24479362</td>\n",
              "      <td>/not-living/detritus</td>\n",
              "    </tr>\n",
              "  </tbody>\n",
              "</table>\n",
              "<p>412 rows × 76 columns</p>\n",
              "</div>\n",
              "      <button class=\"colab-df-convert\" onclick=\"convertToInteractive('df-66aad3e5-a6d4-48c2-b442-16d092521877')\"\n",
              "              title=\"Convert this dataframe to an interactive table.\"\n",
              "              style=\"display:none;\">\n",
              "        \n",
              "  <svg xmlns=\"http://www.w3.org/2000/svg\" height=\"24px\"viewBox=\"0 0 24 24\"\n",
              "       width=\"24px\">\n",
              "    <path d=\"M0 0h24v24H0V0z\" fill=\"none\"/>\n",
              "    <path d=\"M18.56 5.44l.94 2.06.94-2.06 2.06-.94-2.06-.94-.94-2.06-.94 2.06-2.06.94zm-11 1L8.5 8.5l.94-2.06 2.06-.94-2.06-.94L8.5 2.5l-.94 2.06-2.06.94zm10 10l.94 2.06.94-2.06 2.06-.94-2.06-.94-.94-2.06-.94 2.06-2.06.94z\"/><path d=\"M17.41 7.96l-1.37-1.37c-.4-.4-.92-.59-1.43-.59-.52 0-1.04.2-1.43.59L10.3 9.45l-7.72 7.72c-.78.78-.78 2.05 0 2.83L4 21.41c.39.39.9.59 1.41.59.51 0 1.02-.2 1.41-.59l7.78-7.78 2.81-2.81c.8-.78.8-2.07 0-2.86zM5.41 20L4 18.59l7.72-7.72 1.47 1.35L5.41 20z\"/>\n",
              "  </svg>\n",
              "      </button>\n",
              "      \n",
              "  <style>\n",
              "    .colab-df-container {\n",
              "      display:flex;\n",
              "      flex-wrap:wrap;\n",
              "      gap: 12px;\n",
              "    }\n",
              "\n",
              "    .colab-df-convert {\n",
              "      background-color: #E8F0FE;\n",
              "      border: none;\n",
              "      border-radius: 50%;\n",
              "      cursor: pointer;\n",
              "      display: none;\n",
              "      fill: #1967D2;\n",
              "      height: 32px;\n",
              "      padding: 0 0 0 0;\n",
              "      width: 32px;\n",
              "    }\n",
              "\n",
              "    .colab-df-convert:hover {\n",
              "      background-color: #E2EBFA;\n",
              "      box-shadow: 0px 1px 2px rgba(60, 64, 67, 0.3), 0px 1px 3px 1px rgba(60, 64, 67, 0.15);\n",
              "      fill: #174EA6;\n",
              "    }\n",
              "\n",
              "    [theme=dark] .colab-df-convert {\n",
              "      background-color: #3B4455;\n",
              "      fill: #D2E3FC;\n",
              "    }\n",
              "\n",
              "    [theme=dark] .colab-df-convert:hover {\n",
              "      background-color: #434B5C;\n",
              "      box-shadow: 0px 1px 3px 1px rgba(0, 0, 0, 0.15);\n",
              "      filter: drop-shadow(0px 1px 2px rgba(0, 0, 0, 0.3));\n",
              "      fill: #FFFFFF;\n",
              "    }\n",
              "  </style>\n",
              "\n",
              "      <script>\n",
              "        const buttonEl =\n",
              "          document.querySelector('#df-66aad3e5-a6d4-48c2-b442-16d092521877 button.colab-df-convert');\n",
              "        buttonEl.style.display =\n",
              "          google.colab.kernel.accessAllowed ? 'block' : 'none';\n",
              "\n",
              "        async function convertToInteractive(key) {\n",
              "          const element = document.querySelector('#df-66aad3e5-a6d4-48c2-b442-16d092521877');\n",
              "          const dataTable =\n",
              "            await google.colab.kernel.invokeFunction('convertToInteractive',\n",
              "                                                     [key], {});\n",
              "          if (!dataTable) return;\n",
              "\n",
              "          const docLinkHtml = 'Like what you see? Visit the ' +\n",
              "            '<a target=\"_blank\" href=https://colab.research.google.com/notebooks/data_table.ipynb>data table notebook</a>'\n",
              "            + ' to learn more about interactive tables.';\n",
              "          element.innerHTML = '';\n",
              "          dataTable['output_type'] = 'display_data';\n",
              "          await google.colab.output.renderOutput(dataTable, element);\n",
              "          const docLink = document.createElement('div');\n",
              "          docLink.innerHTML = docLinkHtml;\n",
              "          element.appendChild(docLink);\n",
              "        }\n",
              "      </script>\n",
              "    </div>\n",
              "  </div>\n",
              "  "
            ]
          },
          "metadata": {},
          "execution_count": 13
        }
      ]
    },
    {
      "cell_type": "code",
      "source": [
        "# compute number of examples per class\n",
        "inventory = df.groupby(['lineage', 'txo.id', 'txo.display_name']).size().reset_index(name='n0')\n",
        "inventory = inventory.rename(columns={'txo.id':'id', 'txo.display_name':'level0'})\n",
        "\n",
        "print('  downloaded {} objects. Saving them'.format(df.shape[0]))"
      ],
      "metadata": {
        "colab": {
          "base_uri": "https://localhost:8080/"
        },
        "id": "W_ph66PwjYM9",
        "outputId": "36495a5a-9e6b-4cb5-f61a-f788cd441cd9"
      },
      "execution_count": 14,
      "outputs": [
        {
          "output_type": "stream",
          "name": "stdout",
          "text": [
            "  downloaded 412 objects. Saving them\n"
          ]
        }
      ]
    },
    {
      "cell_type": "code",
      "source": [
        "# write to disk\n",
        "pq.write_table(\n",
        "  pa.Table.from_pandas(df),\n",
        "  where=os.path.join(data_dir, 'orig_extraction.parquet'),\n",
        "  compression='NONE' # for compatibility with R\n",
        ")\n",
        "\n",
        "inventory.to_csv(os.path.join(data_dir, 'orig_inventory.tsv'), sep='\\t', index=False)"
      ],
      "metadata": {
        "id": "WnEa89m9jYPD"
      },
      "execution_count": 15,
      "outputs": []
    },
    {
      "cell_type": "markdown",
      "source": [
        "### Download images to your local session:"
      ],
      "metadata": {
        "id": "qUnZFxUHWrDO"
      }
    },
    {
      "cell_type": "code",
      "source": [
        "# prepare storage\n",
        "data_dir = os.path.join(os.path.expanduser(cfg['base_dir']), cfg['dataset'])\n",
        "img_dir = os.path.join(data_dir, 'orig_imgs')\n",
        "os.makedirs(img_dir, exist_ok=True)"
      ],
      "metadata": {
        "id": "vBw8Ow0ZjYTn"
      },
      "execution_count": 16,
      "outputs": []
    },
    {
      "cell_type": "code",
      "source": [
        "# read data from EcoTaxa\n",
        "df = read_table(os.path.join(data_dir, 'orig_extraction.parquet')).to_pandas()\n",
        "df.shape"
      ],
      "metadata": {
        "colab": {
          "base_uri": "https://localhost:8080/"
        },
        "id": "aUoWcKTfjYV1",
        "outputId": "120cc88b-00c9-4988-b7e7-a4de15cd842c"
      },
      "execution_count": 17,
      "outputs": [
        {
          "output_type": "execute_result",
          "data": {
            "text/plain": [
              "(412, 76)"
            ]
          },
          "metadata": {},
          "execution_count": 17
        }
      ]
    },
    {
      "cell_type": "code",
      "source": [
        "# detect image extension\n",
        "file,ext = os.path.splitext(df['img.file_name'][0])\n",
        "# TODO extract file extension for each file, like in step 4.\n",
        "# name image according to internal object_id to ensure uniqueness\n",
        "df['dest_path'] = [os.path.join(img_dir, str(this_id)+ext) for this_id in df['objid']]"
      ],
      "metadata": {
        "id": "S6Z3EK-hjYaH"
      },
      "execution_count": 18,
      "outputs": []
    },
    {
      "cell_type": "code",
      "source": [
        "# download images (with a nice progress bar)\n",
        "vault_path = '/remote/ecotaxa/vault'\n",
        "for i in tqdm(range(df.shape[0])):\n",
        "  # if the file has not been copied already\n",
        "  if not os.path.isfile(df['dest_path'][i]):\n",
        "    # copy from vault\n",
        "    if os.path.isdir(vault_path):\n",
        "      res = shutil.copyfile(\n",
        "        src=os.path.join(vault_path, df['img.file_name'][i]),\n",
        "        dst=df['dest_path'][i]\n",
        "      )\n",
        "    # or copy through the internet\n",
        "    else:\n",
        "      res = urllib.request.urlretrieve(\n",
        "        url='https://ecotaxa.obs-vlfr.fr/vault/'+df['img.file_name'][i],\n",
        "        filename=df['dest_path'][i]\n",
        "      )\n",
        "\n",
        "n_imgs = len(os.listdir(img_dir))\n",
        "print('  {} images in {}'.format(n_imgs, img_dir))"
      ],
      "metadata": {
        "colab": {
          "base_uri": "https://localhost:8080/"
        },
        "id": "AgI1yS8ljYcl",
        "outputId": "0173acca-2b5f-4ac6-8aa8-bc0592a77d31"
      },
      "execution_count": 19,
      "outputs": [
        {
          "output_type": "stream",
          "name": "stderr",
          "text": [
            "100%|██████████| 412/412 [00:49<00:00,  8.38it/s]"
          ]
        },
        {
          "output_type": "stream",
          "name": "stdout",
          "text": [
            "  412 images in /content/Test/orig_imgs\n"
          ]
        },
        {
          "output_type": "stream",
          "name": "stderr",
          "text": [
            "\n"
          ]
        }
      ]
    },
    {
      "cell_type": "markdown",
      "source": [
        "### Plotting examples:"
      ],
      "metadata": {
        "id": "0Elz3M1Ec4qy"
      }
    },
    {
      "cell_type": "code",
      "source": [
        "import cv2\n",
        "import numpy as np\n",
        "from google.colab.patches import cv2_imshow\n",
        "\n",
        "img = cv2.imread(img_dir+\"/236050511.jpg\")\n",
        "cv2_imshow(img)\n",
        "cv2.waitKey()"
      ],
      "metadata": {
        "colab": {
          "base_uri": "https://localhost:8080/",
          "height": 131
        },
        "id": "gXU_c8pCaiU7",
        "outputId": "8b58076c-9a85-4309-d6fc-0bdc47a1d475"
      },
      "execution_count": 37,
      "outputs": [
        {
          "output_type": "display_data",
          "data": {
            "text/plain": [
              "<PIL.Image.Image image mode=RGB size=114x97 at 0x7F9F54987410>"
            ],
            "image/png": "[encoded data removed]"
          },
          "metadata": {}
        },
        {
          "output_type": "execute_result",
          "data": {
            "text/plain": [
              "-1"
            ]
          },
          "metadata": {},
          "execution_count": 37
        }
      ]
    },
    {
      "cell_type": "code",
      "source": [
        "img = cv2.imread(img_dir+\"/236050448.jpg\")\n",
        "cv2_imshow(img)\n",
        "cv2.waitKey()"
      ],
      "metadata": {
        "colab": {
          "base_uri": "https://localhost:8080/",
          "height": 143
        },
        "id": "uYvaK7VbaRek",
        "outputId": "39653c09-f801-4838-e9f4-104d22ca68a4"
      },
      "execution_count": 38,
      "outputs": [
        {
          "output_type": "display_data",
          "data": {
            "text/plain": [
              "<PIL.Image.Image image mode=RGB size=147x109 at 0x7F9F54987790>"
            ],
            "image/png": "[encoded data removed]"
          },
          "metadata": {}
        },
        {
          "output_type": "execute_result",
          "data": {
            "text/plain": [
              "-1"
            ]
          },
          "metadata": {},
          "execution_count": 38
        }
      ]
    }
  ]
}